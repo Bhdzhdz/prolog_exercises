{
 "cells": [
  {
   "cell_type": "code",
   "execution_count": 1,
   "metadata": {},
   "outputs": [],
   "source": [
    "from pyswip import Prolog"
   ]
  },
  {
   "cell_type": "markdown",
   "metadata": {},
   "source": [
    "\n",
    "> `Prolog().query` :\n",
    "Run a prolog query and return a generator.\n",
    "If the query is a yes/no question, returns {} for yes, and nothing for no.\n",
    "Otherwise returns a generator of dicts with variables as keys."
   ]
  },
  {
   "cell_type": "code",
   "execution_count": 2,
   "metadata": {},
   "outputs": [
    {
     "name": "stdout",
     "output_type": "stream",
     "text": [
      "1! = 1\n",
      "2! = 2\n",
      "3! = 6\n",
      "4! = 24\n",
      "5! = 120\n",
      "6! = 720\n",
      "7! = 5040\n",
      "8! = 40320\n",
      "9! = 362880\n"
     ]
    }
   ],
   "source": [
    "prolog = Prolog()\n",
    "\n",
    "prolog.consult(\"src/01_factorial.pro\")\n",
    "\n",
    "for i in range(1, 10):\n",
    "    for solution in prolog.query(f\"factorial({i}, F)\"):\n",
    "        print(f\"{i}! = {solution['F']}\")\n",
    "\n",
    "# check if there are any solution for a negative value (-1)\n",
    "assert len(list(prolog.query(\"factorial(-1, F)\"))) == 0"
   ]
  },
  {
   "cell_type": "code",
   "execution_count": 17,
   "metadata": {},
   "outputs": [
    {
     "ename": "PrologError",
     "evalue": "Caused by: 'insert(0, [], L)'. Returned: 'error(existence_error(procedure, /(insert, 3)), context(/(pyrun, 2), _264))'.",
     "output_type": "error",
     "traceback": [
      "\u001b[0;31m---------------------------------------------------------------------------\u001b[0m",
      "\u001b[0;31mPrologError\u001b[0m                               Traceback (most recent call last)",
      "\u001b[1;32m/home/bhdzhdz/Documents/uaslp/kr/prolog_exercises/notebook.ipynb Cell 4'\u001b[0m in \u001b[0;36m<module>\u001b[0;34m\u001b[0m\n\u001b[1;32m      <a href='vscode-notebook-cell:/home/bhdzhdz/Documents/uaslp/kr/prolog_exercises/notebook.ipynb#ch0000006?line=0'>1</a>\u001b[0m \u001b[39mfor\u001b[39;00m i \u001b[39min\u001b[39;00m \u001b[39mrange\u001b[39m(\u001b[39m5\u001b[39m):\n\u001b[0;32m----> <a href='vscode-notebook-cell:/home/bhdzhdz/Documents/uaslp/kr/prolog_exercises/notebook.ipynb#ch0000006?line=1'>2</a>\u001b[0m     solutions \u001b[39m=\u001b[39m \u001b[39mlist\u001b[39;49m(prolog\u001b[39m.\u001b[39;49mquery(\u001b[39mf\u001b[39;49m\u001b[39m\"\u001b[39;49m\u001b[39minsert(\u001b[39;49m\u001b[39m{\u001b[39;49;00mi\u001b[39m}\u001b[39;49;00m\u001b[39m, \u001b[39;49m\u001b[39m{\u001b[39;49;00m\u001b[39mlist\u001b[39;49m(\u001b[39mrange\u001b[39;49m(i))\u001b[39m}\u001b[39;49;00m\u001b[39m, L)\u001b[39;49m\u001b[39m\"\u001b[39;49m))\n\u001b[1;32m      <a href='vscode-notebook-cell:/home/bhdzhdz/Documents/uaslp/kr/prolog_exercises/notebook.ipynb#ch0000006?line=2'>3</a>\u001b[0m     \u001b[39mfor\u001b[39;00m solution \u001b[39min\u001b[39;00m solutions:\n\u001b[1;32m      <a href='vscode-notebook-cell:/home/bhdzhdz/Documents/uaslp/kr/prolog_exercises/notebook.ipynb#ch0000006?line=3'>4</a>\u001b[0m         \u001b[39mprint\u001b[39m(\u001b[39mf\u001b[39m\u001b[39m\"\u001b[39m\u001b[39minsert(\u001b[39m\u001b[39m{\u001b[39;00mi\u001b[39m}\u001b[39;00m\u001b[39m, \u001b[39m\u001b[39m{\u001b[39;00m\u001b[39mlist\u001b[39m(\u001b[39mrange\u001b[39m(i))\u001b[39m}\u001b[39;00m\u001b[39m, L) = \u001b[39m\u001b[39m{\u001b[39;00msolution[\u001b[39m'\u001b[39m\u001b[39mL\u001b[39m\u001b[39m'\u001b[39m]\u001b[39m}\u001b[39;00m\u001b[39m\"\u001b[39m)\n",
      "File \u001b[0;32m/usr/lib/python3.10/site-packages/pyswip/prolog.py:126\u001b[0m, in \u001b[0;36mProlog._QueryWrapper.__call__\u001b[0;34m(self, query, maxresult, catcherrors, normalize)\u001b[0m\n\u001b[1;32m    <a href='file:///usr/lib/python3.10/site-packages/pyswip/prolog.py?line=122'>123</a>\u001b[0m     \u001b[39mif\u001b[39;00m PL_exception(swipl_qid):\n\u001b[1;32m    <a href='file:///usr/lib/python3.10/site-packages/pyswip/prolog.py?line=123'>124</a>\u001b[0m         term \u001b[39m=\u001b[39m getTerm(PL_exception(swipl_qid))\n\u001b[0;32m--> <a href='file:///usr/lib/python3.10/site-packages/pyswip/prolog.py?line=125'>126</a>\u001b[0m         \u001b[39mraise\u001b[39;00m PrologError(\u001b[39m\"\u001b[39m\u001b[39m\"\u001b[39m\u001b[39m.\u001b[39mjoin([\u001b[39m\"\u001b[39m\u001b[39mCaused by: \u001b[39m\u001b[39m'\u001b[39m\u001b[39m\"\u001b[39m, query, \u001b[39m\"\u001b[39m\u001b[39m'\u001b[39m\u001b[39m. \u001b[39m\u001b[39m\"\u001b[39m,\n\u001b[1;32m    <a href='file:///usr/lib/python3.10/site-packages/pyswip/prolog.py?line=126'>127</a>\u001b[0m                                    \u001b[39m\"\u001b[39m\u001b[39mReturned: \u001b[39m\u001b[39m'\u001b[39m\u001b[39m\"\u001b[39m, \u001b[39mstr\u001b[39m(term), \u001b[39m\"\u001b[39m\u001b[39m'\u001b[39m\u001b[39m.\u001b[39m\u001b[39m\"\u001b[39m]))\n\u001b[1;32m    <a href='file:///usr/lib/python3.10/site-packages/pyswip/prolog.py?line=128'>129</a>\u001b[0m \u001b[39mfinally\u001b[39;00m: \u001b[39m# This ensures that, whatever happens, we close the query\u001b[39;00m\n\u001b[1;32m    <a href='file:///usr/lib/python3.10/site-packages/pyswip/prolog.py?line=129'>130</a>\u001b[0m     PL_cut_query(swipl_qid)\n",
      "\u001b[0;31mPrologError\u001b[0m: Caused by: 'insert(0, [], L)'. Returned: 'error(existence_error(procedure, /(insert, 3)), context(/(pyrun, 2), _264))'."
     ]
    }
   ],
   "source": [
    "prolog = Prolog()\n",
    "\n",
    "prolog.consult(\"src/02_insert.pro\")\n",
    "\n",
    "for i in range(5):\n",
    "    solutions = list(prolog.query(f\"insert({i}, {list(range(i))}, L)\"))\n",
    "    for solution in solutions:\n",
    "        print(f\"insert({i}, {list(range(i))}, L) = {solution['L']}\")\n",
    "    assert len(solutions) > 0"
   ]
  },
  {
   "cell_type": "code",
   "execution_count": 3,
   "metadata": {},
   "outputs": [
    {
     "name": "stdout",
     "output_type": "stream",
     "text": [
      "gcd(0, -5) = 5\n",
      "gcd(0, -4) = 4\n",
      "gcd(0, -3) = 3\n",
      "gcd(0, -2) = 2\n",
      "gcd(0, -1) = 1\n",
      "gcd(1, -5) = 1\n",
      "gcd(1, -4) = 1\n",
      "gcd(1, -3) = 1\n",
      "gcd(1, -2) = 1\n",
      "gcd(1, -1) = 1\n",
      "gcd(2, -5) = 1\n",
      "gcd(2, -4) = 2\n",
      "gcd(2, -3) = 1\n",
      "gcd(2, -2) = 2\n",
      "gcd(2, -1) = 1\n",
      "gcd(3, -5) = 1\n",
      "gcd(3, -4) = 1\n",
      "gcd(3, -3) = 3\n",
      "gcd(3, -2) = 1\n",
      "gcd(3, -1) = 1\n",
      "gcd(4, -5) = 1\n",
      "gcd(4, -4) = 4\n",
      "gcd(4, -3) = 1\n",
      "gcd(4, -2) = 2\n",
      "gcd(4, -1) = 1\n"
     ]
    }
   ],
   "source": [
    "prolog = Prolog()\n",
    "\n",
    "prolog.consult(\"src/06_gcd.pro\")\n",
    "\n",
    "for i in range(5):\n",
    "    for j in range(-5, 0):\n",
    "        solutions = list(prolog.query(f\"gcd({i}, {j}, G)\"))\n",
    "        for solution in solutions:\n",
    "            print(f\"gcd({i}, {j}) = {solution['G']}\")\n",
    "        if len(solutions) == 0:\n",
    "            print(f\"gcd({i}, {j}) = undefined\")\n"
   ]
  },
  {
   "cell_type": "code",
   "execution_count": 4,
   "metadata": {},
   "outputs": [
    {
     "name": "stdout",
     "output_type": "stream",
     "text": [
      "f(1) = 0\n",
      "f(2) = 0\n",
      "f(3) = 2\n",
      "f(4) = 2\n",
      "f(5) = 2\n",
      "f(6) = 4\n",
      "f(7) = 4\n",
      "f(8) = 4\n",
      "f(9) = 4\n"
     ]
    }
   ],
   "source": [
    "prolog = Prolog()\n",
    "\n",
    "prolog.consult(\"src/07_function.pro\")\n",
    "\n",
    "for i in range(1, 10):\n",
    "    solutions = list(prolog.query(f\"f({i}, Y)\"))\n",
    "    for solution in solutions:\n",
    "        print(f\"f({i}) = {solution['Y']}\")\n",
    "    assert len(solutions) > 0\n"
   ]
  },
  {
   "cell_type": "code",
   "execution_count": 14,
   "metadata": {},
   "outputs": [
    {
     "name": "stdout",
     "output_type": "stream",
     "text": [
      "len([]) = 0\n",
      "len([0]) = 1\n",
      "len([0, 1]) = 2\n",
      "len([0, 1, 2]) = 3\n",
      "len([0, 1, 2, 3]) = 4\n",
      "len([0, 1, 2, 3, 4]) = 5\n",
      "len([0, 1, 2, 3, 4, 5]) = 6\n",
      "len([0, 1, 2, 3, 4, 5, 6]) = 7\n",
      "len([0, 1, 2, 3, 4, 5, 6, 7]) = 8\n",
      "len([0, 1, 2, 3, 4, 5, 6, 7, 8]) = 9\n"
     ]
    }
   ],
   "source": [
    "prolog = Prolog()\n",
    "\n",
    "prolog.consult(\"src/10_len.pro\")\n",
    "\n",
    "for i in range(10):\n",
    "    solutions = list(prolog.query(f\"len({list(range(i))}, Y)\"))\n",
    "    for solution in solutions:\n",
    "        print(f\"len({list(range(i))}) = {solution['Y']}\")\n",
    "    assert len(solutions) > 0"
   ]
  }
 ],
 "metadata": {
  "interpreter": {
   "hash": "e7370f93d1d0cde622a1f8e1c04877d8463912d04d973331ad4851f04de6915a"
  },
  "kernelspec": {
   "display_name": "Python 3.10.2 64-bit",
   "language": "python",
   "name": "python3"
  },
  "language_info": {
   "codemirror_mode": {
    "name": "ipython",
    "version": 3
   },
   "file_extension": ".py",
   "mimetype": "text/x-python",
   "name": "python",
   "nbconvert_exporter": "python",
   "pygments_lexer": "ipython3",
   "version": "3.10.2"
  },
  "orig_nbformat": 4
 },
 "nbformat": 4,
 "nbformat_minor": 2
}
