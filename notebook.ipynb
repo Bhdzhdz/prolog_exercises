{
 "cells": [
  {
   "cell_type": "code",
   "execution_count": 9,
   "metadata": {},
   "outputs": [],
   "source": [
    "from pyswip import Prolog"
   ]
  },
  {
   "cell_type": "markdown",
   "metadata": {},
   "source": [
    "\n",
    "> `Prolog().query` :\n",
    "Run a prolog query and return a generator.\n",
    "If the query is a yes/no question, returns {} for yes, and nothing for no.\n",
    "Otherwise returns a generator of dicts with variables as keys."
   ]
  },
  {
   "cell_type": "code",
   "execution_count": 25,
   "metadata": {},
   "outputs": [
    {
     "name": "stdout",
     "output_type": "stream",
     "text": [
      "1! = 1\n",
      "2! = 2\n",
      "3! = 6\n",
      "4! = 24\n",
      "5! = 120\n",
      "6! = 720\n",
      "7! = 5040\n",
      "8! = 40320\n",
      "9! = 362880\n"
     ]
    }
   ],
   "source": [
    "prolog = Prolog()\n",
    "\n",
    "prolog.consult(\"src/01_factorial.pro\")\n",
    "\n",
    "for i in range(1, 10):\n",
    "    for solution in prolog.query(f\"factorial({i}, F)\"):\n",
    "        print(f\"{i}! = {solution['F']}\")\n",
    "\n",
    "# check if there are any solution for a negative value (-1)\n",
    "assert len(list(prolog.query(\"factorial(-1, F)\"))) == 0"
   ]
  },
  {
   "cell_type": "code",
   "execution_count": null,
   "metadata": {},
   "outputs": [],
   "source": []
  }
 ],
 "metadata": {
  "interpreter": {
   "hash": "e7370f93d1d0cde622a1f8e1c04877d8463912d04d973331ad4851f04de6915a"
  },
  "kernelspec": {
   "display_name": "Python 3.10.2 64-bit",
   "language": "python",
   "name": "python3"
  },
  "language_info": {
   "codemirror_mode": {
    "name": "ipython",
    "version": 3
   },
   "file_extension": ".py",
   "mimetype": "text/x-python",
   "name": "python",
   "nbconvert_exporter": "python",
   "pygments_lexer": "ipython3",
   "version": "3.10.2"
  },
  "orig_nbformat": 4
 },
 "nbformat": 4,
 "nbformat_minor": 2
}
